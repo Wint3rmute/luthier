{
 "cells": [
  {
   "cell_type": "code",
   "execution_count": null,
   "id": "eed6103f-fe29-4c1d-8186-12fed75e49b7",
   "metadata": {},
   "outputs": [],
   "source": [
    "import subprocess\n",
    "subprocess.check_output([\"maturin\", \"develop\"])\n",
    "import time"
   ]
  },
  {
   "cell_type": "code",
   "execution_count": 1,
   "id": "61571a0d-537d-4436-a5a8-6d62193418ff",
   "metadata": {
    "tags": []
   },
   "outputs": [],
   "source": [
    "from luthier.luthier import DspGraph, LowPassFilter\n",
    "from lu"
   ]
  },
  {
   "cell_type": "code",
   "execution_count": null,
   "id": "11b2d682-69ad-425c-ba3b-880ab410d579",
   "metadata": {},
   "outputs": [],
   "source": []
  }
 ],
 "metadata": {
  "kernelspec": {
   "display_name": "Python 3 (ipykernel)",
   "language": "python",
   "name": "python3"
  },
  "language_info": {
   "codemirror_mode": {
    "name": "ipython",
    "version": 3
   },
   "file_extension": ".py",
   "mimetype": "text/x-python",
   "name": "python",
   "nbconvert_exporter": "python",
   "pygments_lexer": "ipython3",
   "version": "3.10.11"
  }
 },
 "nbformat": 4,
 "nbformat_minor": 5
}
