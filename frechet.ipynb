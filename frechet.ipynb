{
 "cells": [
  {
   "cell_type": "code",
   "execution_count": 4,
   "id": "4fa7c266-8d51-4050-81ea-35044bb57295",
   "metadata": {
    "tags": []
   },
   "outputs": [],
   "source": [
    "from frechet_audio_distance import FrechetAudioDistance"
   ]
  },
  {
   "cell_type": "code",
   "execution_count": null,
   "id": "dbcf21ae-e97e-4d92-abb2-3f7186ace0b5",
   "metadata": {
    "tags": []
   },
   "outputs": [
    {
     "name": "stderr",
     "output_type": "stream",
     "text": [
      " 23%|██████████████████████████████████████▎                                                                                                                                 | 78.0M/342M [02:45<04:59, 925kB/s]"
     ]
    }
   ],
   "source": [
    "frechet = FrechetAudioDistance(\n",
    "    model_name=\"pann\",\n",
    "    use_pca=False, \n",
    "    use_activation=False,\n",
    "    verbose=False\n",
    ")"
   ]
  },
  {
   "cell_type": "code",
   "execution_count": null,
   "id": "464614d9-9bce-49d7-80e6-fff747a9e0a0",
   "metadata": {},
   "outputs": [],
   "source": []
  }
 ],
 "metadata": {
  "kernelspec": {
   "display_name": "Python 3 (ipykernel)",
   "language": "python",
   "name": "python3"
  },
  "language_info": {
   "codemirror_mode": {
    "name": "ipython",
    "version": 3
   },
   "file_extension": ".py",
   "mimetype": "text/x-python",
   "name": "python",
   "nbconvert_exporter": "python",
   "pygments_lexer": "ipython3",
   "version": "3.10.11"
  }
 },
 "nbformat": 4,
 "nbformat_minor": 5
}
